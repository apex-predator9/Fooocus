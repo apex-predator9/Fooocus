{
 "cells": [
  {
   "cell_type": "code",
   "execution_count": null,
   "metadata": {
    "id": "VjYy0F2gZIPR"
   },
   "outputs": [],
   "source": [
    "from google.colab import drive
import os

# Mount Google Drive
drive.mount('/content/drive')

# Define the path in your Google Drive where you want to install Fooocus
drive_path = "/content/drive/MyDrive/Fooocus" # Change MyDrive/Fooocus to your desired path

# Check if Fooocus is already installed
if not os.path.exists(drive_path):
    # Create the directory if it doesn't exist
    os.makedirs(drive_path, exist_ok=True)

    # Clone the repository into Google Drive
    !git clone https://github.com/lllyasviel/Fooocus.git $drive_path

else:
  print("Fooocus is already installed in your Google Drive.")

# Change the working directory to the Fooocus directory in Drive
%cd $drive_path

# Install requirements (if any)
!pip install -r requirements_versions.txt

# Run the script (assuming it's still named entry_with_update.py)
!python entry_with_update.py --share --always-high-vram"
   ]
  }
 ],
 "metadata": {
  "accelerator": "GPU",
  "colab": {
   "gpuType": "T4",
   "provenance": []
  },
  "kernelspec": {
   "display_name": "Python 3",
   "name": "python3"
  },
  "language_info": {
   "name": "python"
  }
 },
 "nbformat": 4,
 "nbformat_minor": 0
}
