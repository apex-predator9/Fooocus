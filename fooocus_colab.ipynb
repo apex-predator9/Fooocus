{
 "cells": [
  {
   "cell_type": "code",
   "execution_count": null,
   "metadata": {
    "id": "VjYy0F2gZIPR"
   },
   "outputs": [],
   "source": [
    from google.colab import drive
import os
import json

# Mount Google Drive
drive.mount('/content/drive')

# Define the path in your Google Drive where your JSON file is located
json_file_path = "/content/drive/MyDrive/data.json"  # Change "data.json" to your actual filename and path

# Check if the JSON file exists
if not os.path.exists(json_file_path):
  print("The JSON file does not exist at the specified path.")
else:
  # Load the JSON data
  with open(json_file_path, 'r') as json_file:
    data = json.load(json_file)
    # Process or use the loaded data here (replace this with your specific logic)
    print(f"Loaded data from JSON: {data}")

# This section (requirements installation and script execution) remains the same
# Install requirements (if any)
!pip install -r requirements_versions.txt

# Run the script (assuming it's still named entry_with_update.py)
!python entry_with_update.py --share --always-high-vram
   ]
  }
 ],
 "metadata": {
  "accelerator": "GPU",
  "colab": {
   "gpuType": "T4",
   "provenance": []
  },
  "kernelspec": {
   "display_name": "Python 3",
   "name": "python3"
  },
  "language_info": {
   "name": "python"
  }
 },
 "nbformat": 4,
 "nbformat_minor": 0
}
